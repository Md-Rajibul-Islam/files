{
 "cells": [
  {
   "cell_type": "code",
   "execution_count": 1,
   "metadata": {},
   "outputs": [],
   "source": [
    "import tensorflow as tf\n",
    "tf.config.gpu.set_per_process_memory_fraction(0.1)\n",
    "tf.config.gpu.set_per_process_memory_growth(True)"
   ]
  },
  {
   "cell_type": "code",
   "execution_count": 2,
   "metadata": {},
   "outputs": [],
   "source": [
    "# Logic Operator\n",
    "\n",
    "import numpy as np\n",
    "import matplotlib.pyplot as plt\n",
    "%matplotlib inline\n",
    "\n",
    "# Sigmoid function\n",
    "def sigmoid(x):\n",
    "    return 1.0/(1+ np.exp(-x))\n",
    "\n",
    "# derivative of Sigmoid function for backprop.\n",
    "def sigmoid_derivative(x):\n",
    "    return x * (1.0 - x)\n",
    "\n",
    "class NeuralNetwork:\n",
    "    def __init__(self, x, y, N):\n",
    "        self.input    = x\n",
    "        self.neuron   = N\n",
    "        self.weights1 = np.random.rand(self.input.shape[1], self.neuron) # X dimension input connected to N neurons\n",
    "        self.weights2 = np.random.rand(self.neuron, 1)                   # N neurons connected to output            \n",
    "        self.y        = y\n",
    "        self.output   = np.zeros(self.y.shape)                # instantiating the output\n",
    "\n",
    "    def feedforward(self):\n",
    "        self.layer1 = sigmoid(np.dot(self.input, self.weights1)) \n",
    "        self.output = sigmoid(np.dot(self.layer1, self.weights2))\n",
    "\n",
    "    def backprop(self):\n",
    "        # Chain rule to calculate derivative of the loss function with respect to weights2 and weights1\n",
    "        d_weights2 = np.dot(self.layer1.T,\n",
    "                            (2*(self.y - self.output)\n",
    "                            * sigmoid_derivative(self.output)))\n",
    "        \n",
    "        d_weights1 = np.dot(self.input.T,\n",
    "                            (np.dot(2*(self.y - self.output)\n",
    "                            * sigmoid_derivative(self.output),\n",
    "                            self.weights2.T) * sigmoid_derivative(self.layer1)))\n",
    "\n",
    "        # weights updating\n",
    "        self.weights1 += d_weights1\n",
    "        self.weights2 += d_weights2"
   ]
  },
  {
   "cell_type": "markdown",
   "metadata": {},
   "source": [
    "# Task 1"
   ]
  },
  {
   "cell_type": "code",
   "execution_count": 4,
   "metadata": {},
   "outputs": [
    {
     "name": "stdout",
     "output_type": "stream",
     "text": [
      "The target values are: [[0]\n",
      " [0]\n",
      " [0]\n",
      " [1]]\n",
      "The predicted values are: [[4.41657842e-04]\n",
      " [1.83407074e-02]\n",
      " [1.83407074e-02]\n",
      " [4.98111459e-01]]\n",
      "Loss value when number of interations is 10: 0.8091920086651861\n",
      "Loss value when number of interations is 50: 0.43535602905387394\n",
      "Loss value when number of interations is 100: 0.3337840899913623\n",
      "Loss value when number of interations is 500: 0.26200408496874394\n",
      "Loss value when number of interations is 2000: 0.25256506550325886\n"
     ]
    },
    {
     "data": {
      "image/png": "[encoded data removed]",
      "text/plain": [
       "<Figure size 432x288 with 1 Axes>"
      ]
     },
     "metadata": {
      "needs_background": "light"
     },
     "output_type": "display_data"
    }
   ],
   "source": [
    "iterations = 2000\n",
    "n_unit = 1\n",
    "if __name__ == \"__main__\": \n",
    "    \n",
    "    Input = np.array([[0,0,1],\n",
    "                      [0,1,1],\n",
    "                      [1,0,1],\n",
    "                      [1,1,1]])\n",
    "    \n",
    "    Target = np.array([[0],[0],[0],[1]])\n",
    "               \n",
    "    model = NeuralNetwork(Input, Target, n_unit)\n",
    "    \n",
    "    SSD = []\n",
    "    for i in range(iterations):\n",
    "        model.feedforward()\n",
    "        model.backprop()\n",
    "        errors = (Target - model.output)**2\n",
    "        SSD.append(np.sum(errors))            # Objective(loss) function\n",
    "                      \n",
    "\n",
    "    Itr = np.linspace(1,len(SSD),len(SSD))    \n",
    "    plt.plot(Itr, SSD)\n",
    "    plt.xlabel('Iterations')\n",
    "    plt.ylabel('SSD')\n",
    "\n",
    "    print(\"The target values are:\", Target)\n",
    "    print(\"The predicted values are:\", model.output)\n",
    "    print('Loss value when number of interations is 10:', SSD[9])\n",
    "    print('Loss value when number of interations is 50:', SSD[49])\n",
    "    print('Loss value when number of interations is 100:', SSD[99])\n",
    "    print('Loss value when number of interations is 500:', SSD[499])\n",
    "    print('Loss value when number of interations is 2000:', SSD[1999])\n"
   ]
  },
  {
   "cell_type": "markdown",
   "metadata": {},
   "source": [
    "# In task1, we didn't observe the same results because the weights are created randomly. And the loss values are decreasing as the number of iterations increases."
   ]
  },
  {
   "cell_type": "markdown",
   "metadata": {},
   "source": [
    "# Task 2"
   ]
  },
  {
   "cell_type": "code",
   "execution_count": 7,
   "metadata": {},
   "outputs": [
    {
     "name": "stdout",
     "output_type": "stream",
     "text": [
      "The target values are: [[0]\n",
      " [1]\n",
      " [1]\n",
      " [0]]\n",
      "The predicted values are: [[0.50441338]\n",
      " [0.65772237]\n",
      " [0.6577229 ]\n",
      " [0.6602803 ]]\n",
      "Loss value when number of interations is 2000: 0.9247105237675957\n"
     ]
    },
    {
     "data": {
      "image/png": "[encoded data removed]",
      "text/plain": [
       "<Figure size 432x288 with 1 Axes>"
      ]
     },
     "metadata": {
      "needs_background": "light"
     },
     "output_type": "display_data"
    }
   ],
   "source": [
    "iterations = 2000\n",
    "n_unit = 1 # n_unit = 2,5,10,50\n",
    "if __name__ == \"__main__\": \n",
    "    \n",
    "    Input = np.array([[0,0,1],\n",
    "                      [0,1,1],\n",
    "                      [1,0,1],\n",
    "                      [1,1,1]])\n",
    "    \n",
    "    Target = np.array([[0],[1],[1],[0]])\n",
    "               \n",
    "    model = NeuralNetwork(Input, Target, n_unit)\n",
    "    \n",
    "    SSD = []\n",
    "    for i in range(iterations):\n",
    "        model.feedforward()\n",
    "        model.backprop()\n",
    "        errors = (Target - model.output)**2\n",
    "        SSD.append(np.sum(errors))            # Objective(loss) function\n",
    "                      \n",
    "\n",
    "    Itr = np.linspace(1,len(SSD),len(SSD))    \n",
    "    plt.plot(Itr, SSD)\n",
    "    plt.xlabel('Iterations')\n",
    "    plt.ylabel('SSD')\n",
    "\n",
    "    print(\"The target values are:\", Target)\n",
    "    print(\"The predicted values are:\", model.output)\n",
    "    print('Loss value when number of interations is 2000:', SSD[1999])"
   ]
  },
  {
   "cell_type": "markdown",
   "metadata": {},
   "source": [
    "# In task2, the AND operator has lower loss values when the n_unit = 1. For XOR operator we got bad results beacause we can't classficate the data by only one neuron. When we increase the number of neuros in hidden layers, the results are improved until a certain number of neurons like 10. But when it keep increasing, the results would be worse when n_unit=50."
   ]
  },
  {
   "cell_type": "markdown",
   "metadata": {},
   "source": [
    "# Task 3"
   ]
  },
  {
   "cell_type": "code",
   "execution_count": 8,
   "metadata": {},
   "outputs": [
    {
     "name": "stdout",
     "output_type": "stream",
     "text": [
      "The predicted class labels are: [[0.04599702]\n",
      " [0.97463274]\n",
      " [0.9749317 ]\n",
      " [0.01920033]]\n"
     ]
    }
   ],
   "source": [
    "# Logic operator with Tensorflow Keras\n",
    "import numpy as np\n",
    "from tensorflow.keras.models import Sequential\n",
    "from tensorflow.keras.layers import Dense\n",
    "from tensorflow.keras.optimizers import SGD\n",
    "\n",
    "Input = np.array([[0,0],[0,1],[1,0],[1,1]], \"float32\")\n",
    "Target = np.array([[0],[1],[1],[0]], \"float32\")\n",
    "n_unit = 50 # n_unit = 1, 2, 4, 16, 25, 50\n",
    "\n",
    "model = Sequential()\n",
    "model.add(Dense(n_unit, input_dim=2, activation='relu'))\n",
    "model.add(Dense(1, activation='sigmoid'))\n",
    "\n",
    "model.compile(loss='mean_squared_error',\n",
    "              optimizer = SGD(lr=0.1),\n",
    "              metrics=['binary_accuracy'])\n",
    "\n",
    "model.fit(Input, Target, epochs = 5000, verbose=0)\n",
    "\n",
    "print(\"The predicted class labels are:\", model.predict(Input))"
   ]
  },
  {
   "cell_type": "markdown",
   "metadata": {},
   "source": [
    "The results before changing learning rate:\n",
    "\n",
    "n_unit = 1 : The predicted class labels are: [[0.5006155]\n",
    " [0.5006155]\n",
    " [0.5006155]\n",
    " [0.5006155]]\n",
    "\n",
    "n_unit = 2 : The predicted class labels are: [[0.4742636]\n",
    " [0.6396791]\n",
    " [0.4742636]\n",
    " [0.4742636]]\n",
    "\n",
    "n_unit = 4 : The predicted class labels are: [[0.48214462]\n",
    " [0.50296855]\n",
    " [0.5363879 ]\n",
    " [0.56410927]]\n",
    "\n",
    "n_unit = 16 : The predicted class labels are: [[0.4812355 ]\n",
    " [0.5457571 ]\n",
    " [0.50322366]\n",
    " [0.55496365]]\n",
    "\n",
    "n_unit = 25 : The predicted class labels are: [[0.4812355 ]\n",
    " [0.5457571 ]\n",
    " [0.50322366]\n",
    " [0.55496365]]\n",
    "\n",
    "n_unit = 50 : The predicted class labels are: [[0.47832686]\n",
    " [0.5361162 ]\n",
    " [0.5580305 ]\n",
    " [0.5018328 ]]\n",
    " \n",
    "The results after setting learning rate = 0.1:\n",
    " \n",
    " n_unit = 1 : The predicted class labels are: [[0.3339834 ]\n",
    " [0.3339834 ]\n",
    " [0.97950935]\n",
    " [0.3339834 ]]\n",
    " \n",
    " n_unit = 2 : The predicted class labels are: [[0.33395112]\n",
    " [0.9801624 ]\n",
    " [0.33395112]\n",
    " [0.33395112]]\n",
    " \n",
    " n_unit = 4 : The predicted class labels are: [[0.04050305]\n",
    " [0.97592765]\n",
    " [0.9760733 ]\n",
    " [0.02017644]]\n",
    " \n",
    " n_unit = 16 : The predicted class labels are: [[0.04236481]\n",
    " [0.9741006 ]\n",
    " [0.9739702 ]\n",
    " [0.02136591]]\n",
    " \n",
    " n_unit = 25 : The predicted class labels are: [[0.04128468]\n",
    " [0.97560155]\n",
    " [0.9754395 ]\n",
    " [0.01936913]]\n",
    " \n",
    " n_unit = 50 : The predicted class labels are: [[0.04492968]\n",
    " [0.9754776 ]\n",
    " [0.9756963 ]\n",
    " [0.01726386]]\n",
    " \n",
    " # In conclusion, we can see that if we don't change the default learning rate, the results would not be effective. After we changed the learning rate to 0.1, the results improved and we got quiet good results when we increase the n_unit to 4. However, if n_unit keeps increasing, the results won't improve futher. "
   ]
  }
 ],
 "metadata": {
  "kernelspec": {
   "display_name": "Python 3",
   "language": "python",
   "name": "python3"
  },
  "language_info": {
   "codemirror_mode": {
    "name": "ipython",
    "version": 3
   },
   "file_extension": ".py",
   "mimetype": "text/x-python",
   "name": "python",
   "nbconvert_exporter": "python",
   "pygments_lexer": "ipython3",
   "version": "3.5.2"
  }
 },
 "nbformat": 4,
 "nbformat_minor": 2
}
